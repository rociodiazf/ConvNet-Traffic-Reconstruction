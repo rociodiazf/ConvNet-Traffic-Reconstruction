{
  "cells": [
    {
      "cell_type": "code",
      "execution_count": null,
      "metadata": {
        "id": "nT6yca4pBKz6"
      },
      "outputs": [],
      "source": [
        "import os\n",
        "import numpy as np\n",
        "\n",
        "import tensorflow as tf\n",
        "import matplotlib.pyplot as plt\n",
        "from tensorflow.keras.models import Sequential, Model\n",
        "from tensorflow.keras import Input\n",
        "from tensorflow.keras.layers import Dense, Activation, Flatten, Reshape, Lambda, Input, concatenate\n",
        "from tensorflow.keras.layers import Conv2D, Conv2DTranspose, UpSampling2D, MaxPooling2D, BatchNormalization\n",
        "from tensorflow.keras.optimizers import RMSprop\n",
        "from tensorflow.keras.models import Model\n",
        "K=tf.keras.backend\n"
      ],
      "id": "nT6yca4pBKz6"
    },
    {
      "cell_type": "code",
      "execution_count": null,
      "metadata": {
        "id": "jNBoTC9nBKz7"
      },
      "outputs": [],
      "source": [
        "#Por simplicidad usamos media y varianza solo del primer archivo\n",
        "Datos=np.load('Datos_P/Datos_'+ str(0)+'.npy')\n",
        "Media=np.mean(Datos, axis=0)\n",
        "Varianza=np.var(Datos, axis=0)\n",
        "# np.save('Media', Media)\n",
        "# np.save('Varianza', Varianza)"
      ],
      "id": "jNBoTC9nBKz7"
    },
    {
      "cell_type": "code",
      "execution_count": null,
      "metadata": {
        "id": "iWdRUQUBBKz8"
      },
      "outputs": [],
      "source": [
        "M=1\n",
        "EstimaPar= Sequential()\n",
        "EstimaPar.add( Conv2D(M*4, (3,3), strides=(2,2), activation='relu', padding='same' , input_shape=(512,512,3) ) ) #256x256x6\n",
        "EstimaPar.add( Conv2D(M*8, (3,3), strides=(2,2), activation='relu', padding='same') ) # 128x128x12\n",
        "EstimaPar.add( Conv2D(M*16, (3,3), strides=(2,2), activation='relu', padding='same') ) # 64x64x24\n",
        "EstimaPar.add( Conv2D(M*32, (3,3), strides=(2,2), activation='relu', padding='same') ) # 32x32x48\n",
        "EstimaPar.add( Conv2D(M*64, (3,3), strides=(2,2), activation='relu', padding='same') ) # 16x16x92\n",
        "EstimaPar.add( Conv2D(M*128, (3,3), strides=(2,2), activation='relu', padding='same') ) # 8x8x92\n",
        "EstimaPar.add( Conv2D(M*256, (3,3), strides=(2,2), activation='relu', padding='same') ) # 4x4x256\n",
        "EstimaPar.add(Flatten())\n",
        "EstimaPar.add(Dense(128*M, activation='tanh'))\n",
        "EstimaPar.add(Dense(64*M, activation='tanh'))\n",
        "EstimaPar.add(Dense(3*3*4, activation='linear'))\n",
        "EstimaPar.add(Reshape((4,3,3)))"
      ],
      "id": "iWdRUQUBBKz8"
    },
    {
      "cell_type": "code",
      "source": [
        "EstimaPar.summary()"
      ],
      "metadata": {
        "id": "TEOmPhl0yFIA",
        "collapsed": true
      },
      "id": "TEOmPhl0yFIA",
      "execution_count": null,
      "outputs": []
    },
    {
      "cell_type": "code",
      "execution_count": null,
      "metadata": {
        "id": "bNDpJeVWBKz8"
      },
      "outputs": [],
      "source": [
        "LR=0.001\n",
        "\n",
        "optimizer0 = RMSprop(learning_rate=LR, epsilon=1e-10)\n",
        "EstimaPar.compile(loss='mse', optimizer=optimizer0, metrics='mse')\n"
      ],
      "id": "bNDpJeVWBKz8"
    },
    {
      "cell_type": "code",
      "execution_count": null,
      "metadata": {
        "id": "uhsEg1PbBKz8"
      },
      "outputs": [],
      "source": [
        "import gc\n",
        "gc.collect()"
      ],
      "id": "uhsEg1PbBKz8"
    },
    {
      "cell_type": "code",
      "source": [
        "EstimaPar.trainable=True"
      ],
      "metadata": {
        "id": "zzxcbL07T68N"
      },
      "id": "zzxcbL07T68N",
      "execution_count": null,
      "outputs": []
    },
    {
      "cell_type": "markdown",
      "metadata": {
        "id": "9eYFDM6GBKz9"
      },
      "source": [
        "## Entrenamiento"
      ],
      "id": "9eYFDM6GBKz9"
    },
    {
      "cell_type": "code",
      "execution_count": null,
      "metadata": {
        "id": "ZNB8qK7yBKz8"
      },
      "outputs": [],
      "source": [
        "DatosOut=np.zeros( (18000,512,512,3), dtype='float32')"
      ],
      "id": "ZNB8qK7yBKz8"
    },
    {
      "cell_type": "code",
      "execution_count": null,
      "metadata": {
        "id": "KF_17rfHBKz-",
        "collapsed": true
      },
      "outputs": [],
      "source": [
        "\n",
        "for z in range(0,10):\n",
        "    for it in range(0,100):\n",
        "\n",
        "        DatosOut[:,:,:,0:1]=np.load('Datos_P/Datos_Out_'+ str(it)+'.npz')['arr_0']\n",
        "        DatosOut[:,:,:,1]=DatosOut[:,:,:,0]//2\n",
        "        DatosOut[:,:,:,2]=DatosOut[:,:,:,1]//2\n",
        "        DatosOut[:,:,:,0]=DatosOut[:,:,:,0]-DatosOut[:,:,:,1]*2\n",
        "        DatosOut[:,:,:,1]=DatosOut[:,:,:,1]-DatosOut[:,:,:,2]*2\n",
        "\n",
        "        Datos=np.load('Datos_P/Datos_'+ str(it)+'.npy')\n",
        "\n",
        "        gc.collect()\n",
        "\n",
        "        Datos=(Datos-Media)/np.sqrt(Varianza)\n",
        "\n",
        "        for it2 in range(0,25):\n",
        "            Hist=EstimaPar.fit( DatosOut[np.mod(it2,25)::25,:,:,:], Datos[np.mod(it2,25)::25,:,:,:], batch_size=20, epochs=1, verbose=True)\n",
        "            print(it2,1-Hist.history['loss'][0],LR)\n",
        "            LR=LR*0.999\n",
        "            K.set_value(EstimaPar.optimizer.lr,LR)\n",
        "            gc.collect()"
      ],
      "id": "KF_17rfHBKz-"
    },
    {
      "cell_type": "markdown",
      "metadata": {
        "id": "L82qYYPbBKz_"
      },
      "source": [
        "## Evaluación"
      ],
      "id": "L82qYYPbBKz_"
    },
    {
      "cell_type": "code",
      "source": [
        "###########################################\n",
        "# Datos de entrada\n",
        "############################################\n",
        "DatosOut_Test=np.zeros( (1000,512,512,3), dtype='float32')\n",
        "\n",
        "DatosOut_Test[:,:,:,0:1]=np.load('Datos_Out_Test_0.npz')['arr_0'][0:1000,:,:,:]\n",
        "DatosOut_Test[:,:,:,1]=DatosOut_Test[:,:,:,0]//2\n",
        "DatosOut_Test[:,:,:,2]=DatosOut_Test[:,:,:,1]//2\n",
        "DatosOut_Test[:,:,:,0]=DatosOut_Test[:,:,:,0]-DatosOut_Test[:,:,:,1]*2\n",
        "DatosOut_Test[:,:,:,1]=DatosOut_Test[:,:,:,1]-DatosOut_Test[:,:,:,2]*2"
      ],
      "metadata": {
        "id": "n73x1-oZS7At"
      },
      "id": "n73x1-oZS7At",
      "execution_count": null,
      "outputs": []
    },
    {
      "cell_type": "code",
      "source": [
        "###########################################\n",
        "# Datos de salida\n",
        "###########################################\n",
        "Datos_A_Estimar = np.load('Datos_Test_0.npy')\n",
        "#Datos_A_Estimar = np.load('Datos_Test_1.npy')\n",
        "\n",
        "Datos_A_Estimar= (Datos_A_Estimar-Media)/np.sqrt(Varianza)"
      ],
      "metadata": {
        "id": "9zOAzQQVTDqi"
      },
      "id": "9zOAzQQVTDqi",
      "execution_count": null,
      "outputs": []
    },
    {
      "cell_type": "code",
      "execution_count": null,
      "metadata": {
        "id": "LLu8XP7KBKz_"
      },
      "outputs": [],
      "source": [
        "\n",
        "#Formato: (4,3,3) => 4 sensores, 3 carriles, 3 variables\n",
        "###########################################\n",
        "\n",
        "\n",
        "###########################################\n",
        "# Estimación\n",
        "pr = EstimaPar.predict(DatosOut_Test)\n",
        "\n",
        "\n",
        "\n",
        "\n"
      ],
      "id": "LLu8XP7KBKz_"
    },
    {
      "cell_type": "code",
      "source": [
        "Datos_A_Estimar.shape"
      ],
      "metadata": {
        "id": "DpzpEvtMYDcH"
      },
      "id": "DpzpEvtMYDcH",
      "execution_count": null,
      "outputs": []
    },
    {
      "cell_type": "code",
      "source": [
        "Datos_A_Estimar= ((Datos_A_Estimar)*np.sqrt(Varianza))+Media\n",
        "pr= ((pr)*np.sqrt(Varianza))+Media"
      ],
      "metadata": {
        "id": "7nihzZ6PrVIK"
      },
      "id": "7nihzZ6PrVIK",
      "execution_count": null,
      "outputs": []
    },
    {
      "cell_type": "markdown",
      "source": [
        "Gráficas por variable y dentro los 3 carriles"
      ],
      "metadata": {
        "id": "GJ3eZenLqmON"
      },
      "id": "GJ3eZenLqmON"
    },
    {
      "cell_type": "markdown",
      "source": [
        "Flujo"
      ],
      "metadata": {
        "id": "5NduLTDsqusl"
      },
      "id": "5NduLTDsqusl"
    },
    {
      "cell_type": "code",
      "source": [
        "import matplotlib\n",
        "import matplotlib.pyplot as plt\n",
        "fig, ax = plt.subplots()\n",
        "ax.plot(Datos_A_Estimar[0:1000,0,0,0],pr[0:1000,0,0,0], '*', label = 'Carril 1') #Carril 0\n",
        "ax.plot(Datos_A_Estimar[0:1000,0,1,0],pr[0:1000,0,1,0], '*', label = 'Carril 2')#Carril 1\n",
        "ax.plot(Datos_A_Estimar[0:1000,0,2,0],pr[0:1000,0,2,0], '*', label = 'Carril 3')#Carril 2\n",
        "ax.plot([min(Datos_A_Estimar[0:1000,0,0,0]), max(Datos_A_Estimar[0:1000,0,0,0])], [min(Datos_A_Estimar[0:1000,0,0,0]), max(Datos_A_Estimar[0:1000,0,0,0])], 'k')\n",
        "ax.legend()\n",
        "ax.set_title('Flujo (vh/s)')\n",
        "plt.xlabel('Q')\n",
        "plt.ylabel( 'Q^')\n",
        "#plt.savefig(\"ComparativaFlujoCarriles.pdf\")\n",
        "plt.show()"
      ],
      "metadata": {
        "id": "qwFpqecFquga"
      },
      "id": "qwFpqecFquga",
      "execution_count": null,
      "outputs": []
    },
    {
      "cell_type": "markdown",
      "source": [
        "Densidad"
      ],
      "metadata": {
        "id": "RR84LMrJqwND"
      },
      "id": "RR84LMrJqwND"
    },
    {
      "cell_type": "code",
      "source": [
        "fig, ax = plt.subplots()\n",
        "ax.plot(Datos_A_Estimar[0:1000,0,0,1],pr[0:1000,0,0,1], '*', label = 'Carril 1') #Carril 0\n",
        "ax.plot(Datos_A_Estimar[0:1000,0,1,1],pr[0:1000,0,1,1], '*', label = 'Carril 2')#Carril 1\n",
        "ax.plot(Datos_A_Estimar[0:1000,0,2,1],pr[0:1000,0,2,1], '*', label = 'Carril 3')#Carril 2\n",
        "ax.plot([min(Datos_A_Estimar[0:1000,0,0,1]), max(Datos_A_Estimar[0:1000,0,0,1])], [min(Datos_A_Estimar[0:1000,0,0,1]), max(Datos_A_Estimar[0:1000,0,0,1])], 'k')\n",
        "ax.legend()\n",
        "ax.set_title('Densidad (vh/m)')\n",
        "plt.xlabel('K')\n",
        "plt.ylabel('K^')\n",
        "#plt.savefig(\"ComparativaDensidadCarriles.pdf\")\n",
        "plt.show()"
      ],
      "metadata": {
        "id": "2a8yNYByqsaJ"
      },
      "id": "2a8yNYByqsaJ",
      "execution_count": null,
      "outputs": []
    },
    {
      "cell_type": "markdown",
      "source": [
        "Velocidad"
      ],
      "metadata": {
        "id": "60Oub-BqqxUx"
      },
      "id": "60Oub-BqqxUx"
    },
    {
      "cell_type": "code",
      "source": [
        "fig, ax = plt.subplots()\n",
        "ax.plot(Datos_A_Estimar[0:1000,0,0,2],pr[0:1000,0,0,2], '*', label = 'Carril 1') #Carril 0\n",
        "ax.plot(Datos_A_Estimar[0:1000,0,1,2],pr[0:1000,0,1,2], '*', label = 'Carril 2')#Carril 1\n",
        "ax.plot(Datos_A_Estimar[0:1000,0,2,2],pr[0:1000,0,2,2], '*', label = 'Carril 3')#Carril 2\n",
        "ax.plot([min(Datos_A_Estimar[0:1000,0,2,2]), max(Datos_A_Estimar[0:1000,0,0,2])], [min(Datos_A_Estimar[0:1000,0,2,2]), max(Datos_A_Estimar[0:1000,0,0,2])], 'k')\n",
        "ax.legend()\n",
        "ax.set_title('Velocidad (m/s)')\n",
        "plt.xlabel('V')\n",
        "plt.ylabel('V^')\n",
        "#plt.savefig(\"ComparativaVelocidadCarriles.pdf\")\n",
        "plt.show()"
      ],
      "metadata": {
        "id": "EAvkE_cUqy0k"
      },
      "id": "EAvkE_cUqy0k",
      "execution_count": null,
      "outputs": []
    },
    {
      "cell_type": "markdown",
      "source": [
        "Intento de dibujar gráficas con valores"
      ],
      "metadata": {
        "id": "ezvq9XZ7maqL"
      },
      "id": "ezvq9XZ7maqL"
    },
    {
      "cell_type": "markdown",
      "source": [
        "Flujo"
      ],
      "metadata": {
        "id": "dhiFtjZsmfGP"
      },
      "id": "dhiFtjZsmfGP"
    },
    {
      "cell_type": "code",
      "source": [
        "fig, ax = plt.subplots()\n",
        "ax.plot(Datos_A_Estimar[0:200,0,0,0], '*')\n",
        "ax.plot(pr[0:200,0,0,0],'*')\n",
        "plt.show()"
      ],
      "metadata": {
        "id": "bca2Nqc1mgfV"
      },
      "id": "bca2Nqc1mgfV",
      "execution_count": null,
      "outputs": []
    },
    {
      "cell_type": "markdown",
      "source": [
        "Densidad"
      ],
      "metadata": {
        "id": "9WevelyMm2s7"
      },
      "id": "9WevelyMm2s7"
    },
    {
      "cell_type": "code",
      "source": [
        "fig, ax = plt.subplots()\n",
        "ax.plot(Datos_A_Estimar[0:200,0,0,1], '*')\n",
        "ax.plot(pr[0:200,0,0,1],'*')\n",
        "plt.show()"
      ],
      "metadata": {
        "id": "KLHTBA8Jm3tW"
      },
      "id": "KLHTBA8Jm3tW",
      "execution_count": null,
      "outputs": []
    },
    {
      "cell_type": "markdown",
      "source": [
        "Velocidad"
      ],
      "metadata": {
        "id": "U5Yf23oZm7qa"
      },
      "id": "U5Yf23oZm7qa"
    },
    {
      "cell_type": "code",
      "source": [
        "fig, ax = plt.subplots()\n",
        "ax.plot(Datos_A_Estimar[0:200,0,0,2], '*')\n",
        "ax.plot(pr[0:200,0,0,2],'*')\n",
        "plt.show()"
      ],
      "metadata": {
        "id": "FjWQWsWLm8uU"
      },
      "id": "FjWQWsWLm8uU",
      "execution_count": null,
      "outputs": []
    },
    {
      "cell_type": "code",
      "source": [
        "###########################################\n",
        "carril = 2\n",
        "variable = 2\n",
        "\n",
        "#ErrorCuadraticoMedio\n",
        "MSE=0\n",
        "MSE = np.mean(np.power(Datos_A_Estimar[0:1000,0,carril,variable]-pr[:,0,carril,variable],2))\n",
        "#R^2\n",
        "R2=0\n",
        "R2 = 1 - np.var(Datos_A_Estimar[0:1000,0,carril,variable]-pr[0:1000,0,carril,variable])/np.var(Datos_A_Estimar[0:1000,0,carril,variable])\n",
        "\n",
        "\n",
        "\n"
      ],
      "metadata": {
        "id": "05oACOwRTH2K"
      },
      "id": "05oACOwRTH2K",
      "execution_count": null,
      "outputs": []
    },
    {
      "cell_type": "code",
      "source": [
        "print(MSE)"
      ],
      "metadata": {
        "id": "ZvJzsnxza8sH"
      },
      "id": "ZvJzsnxza8sH",
      "execution_count": null,
      "outputs": []
    },
    {
      "cell_type": "code",
      "source": [
        "print(R2)"
      ],
      "metadata": {
        "id": "9EmxrqGIa_sS"
      },
      "id": "9EmxrqGIa_sS",
      "execution_count": null,
      "outputs": []
    }
  ],
  "metadata": {
    "kernelspec": {
      "display_name": "Python 3",
      "language": "python",
      "name": "python3"
    },
    "language_info": {
      "codemirror_mode": {
        "name": "ipython",
        "version": 3
      },
      "file_extension": ".py",
      "mimetype": "text/x-python",
      "name": "python",
      "nbconvert_exporter": "python",
      "pygments_lexer": "ipython3",
      "version": "3.8.3"
    },
    "colab": {
      "provenance": []
    }
  },
  "nbformat": 4,
  "nbformat_minor": 5
}