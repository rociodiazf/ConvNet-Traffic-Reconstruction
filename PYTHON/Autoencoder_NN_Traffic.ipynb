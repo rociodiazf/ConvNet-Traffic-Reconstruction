{
  "cells": [
    {
      "cell_type": "code",
      "execution_count": null,
      "metadata": {
        "id": "KyWnNkvJ0PhS"
      },
      "outputs": [],
      "source": [
        "import os\n",
        "import numpy as np\n",
        "import tensorflow as tf\n",
        "import matplotlib.pyplot as plt\n",
        "from tensorflow.keras.models import Sequential, Model\n",
        "from tensorflow.keras import Input\n",
        "from tensorflow.keras.layers import Dense, Activation, Flatten, Reshape, Lambda, Input, concatenate\n",
        "from tensorflow.keras.layers import Conv2D, Conv2DTranspose, UpSampling2D, MaxPooling2D, BatchNormalization\n",
        "from tensorflow.keras.optimizers import RMSprop\n",
        "from tensorflow.keras.models import Model\n",
        "K=tf.keras.backend\n"
      ],
      "id": "KyWnNkvJ0PhS"
    },
    {
      "cell_type": "code",
      "execution_count": null,
      "metadata": {
        "id": "ct-0At9K0PhV"
      },
      "outputs": [],
      "source": [
        "\n",
        "Encoder= Sequential()\n",
        "Encoder.add( Conv2D(12, (3,3), strides=(2,2), activation='relu', padding='same' , input_shape=(512,512,3) ) ) #256x256x12\n",
        "Encoder.add( Conv2D(24, (3,3), strides=(2,2), activation='relu', padding='same') ) # 128x128x24\n",
        "Encoder.add( Conv2D(48, (3,3), strides=(2,2), activation='relu', padding='same') ) # 64x64x24\n",
        "Encoder.add( Conv2D(96, (3,3), strides=(2,2), activation='relu', padding='same') ) # 32x32x48\n",
        "Encoder.add( Conv2D(128, (3,3), strides=(2,2), activation='relu', padding='same') ) # 16x16x92\n",
        "Encoder.add( Conv2D(256, (3,3), strides=(2,2), activation='relu', padding='same') ) # 8x8x92\n",
        "Encoder.add( Conv2D(512, (3,3), strides=(2,2), activation='relu', padding='same') ) # 4x4x512\n",
        "Encoder.add(Flatten())\n",
        "\n",
        "\n",
        "Generador = Sequential()\n",
        "Generador.add(Reshape((4,4,512),input_shape=(8192,)))\n",
        "Generador.add(Conv2DTranspose(256, (3,3), strides=(2,2), padding='same', activation='relu')) #8x8\n",
        "Generador.add(Conv2DTranspose(128, (3,3), strides=(2,2), padding='same', activation='relu')) #16x16\n",
        "Generador.add(Conv2DTranspose(96, (3,3), strides=(2,2), padding='same', activation='relu')) #32x32\n",
        "Generador.add(Conv2DTranspose(48, (3,3), strides=(2,2), padding='same', activation='relu')) #64x64\n",
        "Generador.add(Conv2DTranspose(24, (3,3), strides=(2,2), padding='same', activation='relu')) #128x128\n",
        "Generador.add(Conv2DTranspose(12, (3,3), strides=(2,2), padding='same', activation='relu')) #256x256\n",
        "Generador.add(Conv2DTranspose(3, (3,3), strides=(2,2), padding='same', activation='sigmoid')) #512x512x3\n",
        "\n",
        "\n",
        "Autoencoder=Sequential()\n",
        "Autoencoder.add(Encoder)\n",
        "Autoencoder.add(Generador)\n"
      ],
      "id": "ct-0At9K0PhV"
    },
    {
      "cell_type": "code",
      "execution_count": null,
      "metadata": {
        "id": "oxB1y_010PhX"
      },
      "outputs": [],
      "source": [
        "Encoder.summary()\n",
        "Generador.summary()"
      ],
      "id": "oxB1y_010PhX"
    },
    {
      "cell_type": "code",
      "execution_count": null,
      "metadata": {
        "id": "ar2J64Aj0PhZ"
      },
      "outputs": [],
      "source": [
        "import gc\n",
        "LR=0.001 #0.001\n",
        "\n",
        "optimizer0 = RMSprop(learning_rate=LR, epsilon=1e-10)\n",
        "Autoencoder.compile(loss='mse', optimizer=optimizer0, metrics='mse')\n",
        "\n",
        "Autoencoder.summary()"
      ],
      "id": "ar2J64Aj0PhZ"
    },
    {
      "cell_type": "code",
      "execution_count": null,
      "metadata": {
        "id": "t6ptgFC_0Pha"
      },
      "outputs": [],
      "source": [
        "DatosOut=np.zeros( (13500,512,512,3), dtype='float32')"
      ],
      "id": "t6ptgFC_0Pha"
    },
    {
      "cell_type": "code",
      "execution_count": null,
      "metadata": {
        "id": "gJP52Qcz0Pha"
      },
      "outputs": [],
      "source": [
        "for z in range(0,50):\n",
        "    for it in range(0,100):\n",
        "        DatosOut[:,:,:,0:1]=np.load('Datos_P/Datos_Out_'+ str(it)+'.npz')['arr_0']\n",
        "        DatosOut[:,:,:,1]=DatosOut[:,:,:,0]//2\n",
        "        DatosOut[:,:,:,2]=DatosOut[:,:,:,1]//2\n",
        "        DatosOut[:,:,:,0]=DatosOut[:,:,:,0]-DatosOut[:,:,:,1]*2\n",
        "        DatosOut[:,:,:,1]=DatosOut[:,:,:,1]-DatosOut[:,:,:,2]*2\n",
        "\n",
        "        gc.collect()\n",
        "\n",
        "        for it2 in range(0,25):\n",
        "            Hist=Autoencoder.fit( DatosOut[np.mod(it2,25)::25,:,:,:], DatosOut[np.mod(it2,25)::25,:,:,:] , batch_size=20, epochs=1, verbose=True)\n",
        "            print(it2,Hist.history['loss'][0], LR)\n",
        "            LR=LR*0.999\n",
        "            K.set_value(Autoencoder.optimizer.lr,LR)\n",
        "            gc.collect()"
      ],
      "id": "gJP52Qcz0Pha"
    },
    {
      "cell_type": "code",
      "execution_count": null,
      "metadata": {
        "id": "5guhHHUV0Phd"
      },
      "outputs": [],
      "source": [
        "DatosOut_Test=np.zeros( (4500,512,512,3), dtype='float32')\n",
        "it=0\n",
        "DatosOut_Test[:,:,:,0:1]=np.load('Datos_P/Datos_Out_Test_'+ str(it)+'.npz')['arr_0']\n",
        "DatosOut_Test[:,:,:,1]=DatosOut_Test[:,:,:,0]//2\n",
        "DatosOut_Test[:,:,:,2]=DatosOut_Test[:,:,:,1]//2\n",
        "DatosOut_Test[:,:,:,0]=DatosOut_Test[:,:,:,0]-DatosOut_Test[:,:,:,1]*2\n",
        "DatosOut_Test[:,:,:,1]=DatosOut_Test[:,:,:,1]-DatosOut_Test[:,:,:,2]*2"
      ],
      "id": "5guhHHUV0Phd"
    },
    {
      "cell_type": "code",
      "execution_count": null,
      "metadata": {
        "id": "otjhijw60Phe"
      },
      "outputs": [],
      "source": [
        "for q in range(0,10):\n",
        "    r1=np.random.randint(DatosOut_Test.shape[0])\n",
        "    pr=Autoencoder.predict( DatosOut_Test[r1:r1+1,:,:,:])\n",
        "    plt.figure()\n",
        "    plt.imshow(np.concatenate([pr[0,:,:,0], DatosOut_Test[r1,:,:,0] ], axis=1))\n",
        "    plt.figure()\n",
        "    plt.imshow(np.concatenate([pr[0,:,:,1], DatosOut_Test[r1,:,:,1] ], axis=1))\n",
        "    plt.figure()\n",
        "    plt.imshow(np.concatenate([pr[0,:,:,2], DatosOut_Test[r1,:,:,2] ], axis=1))\n",
        "    plt.show()\n",
        "    plt.pause(0.1)"
      ],
      "id": "otjhijw60Phe"
    }
  ],
  "metadata": {
    "kernelspec": {
      "display_name": "Python 3",
      "language": "python",
      "name": "python3"
    },
    "language_info": {
      "codemirror_mode": {
        "name": "ipython",
        "version": 3
      },
      "file_extension": ".py",
      "mimetype": "text/x-python",
      "name": "python",
      "nbconvert_exporter": "python",
      "pygments_lexer": "ipython3",
      "version": "3.8.3"
    },
    "colab": {
      "provenance": []
    }
  },
  "nbformat": 4,
  "nbformat_minor": 5
}